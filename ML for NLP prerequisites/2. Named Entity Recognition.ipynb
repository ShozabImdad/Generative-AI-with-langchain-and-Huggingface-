{
 "cells": [
  {
   "cell_type": "code",
   "execution_count": 2,
   "id": "3a7a71ae-1653-4b6a-8f68-3ba24e349af8",
   "metadata": {},
   "outputs": [],
   "source": [
    "scentence = \"Generative Ais models can take inputs such as text, image, audio, video, and code and generate new content into any of the modalities mentioned. For example,it can turn text inputs into an image, turn an image into a song, or turn video into text.\""
   ]
  },
  {
   "cell_type": "code",
   "execution_count": 3,
   "id": "ebbd968d-9fef-49e0-95ca-f71e8996eac4",
   "metadata": {},
   "outputs": [
    {
     "name": "stdout",
     "output_type": "stream",
     "text": [
      "Requirement already satisfied: numpy in c:\\users\\hh traders\\appdata\\local\\programs\\python\\python312\\lib\\site-packages (2.1.0)\n",
      "Note: you may need to restart the kernel to use updated packages.\n"
     ]
    }
   ],
   "source": [
    "pip install numpy"
   ]
  },
  {
   "cell_type": "code",
   "execution_count": 4,
   "id": "52e4c3dc-d215-4dcd-ad13-bd0665069bd4",
   "metadata": {},
   "outputs": [
    {
     "name": "stdout",
     "output_type": "stream",
     "text": [
      "Requirement already satisfied: svgling in c:\\users\\hh traders\\appdata\\local\\programs\\python\\python312\\lib\\site-packages (0.5.0)\n",
      "Requirement already satisfied: svgwrite in c:\\users\\hh traders\\appdata\\local\\programs\\python\\python312\\lib\\site-packages (from svgling) (1.4.3)\n",
      "Note: you may need to restart the kernel to use updated packages.\n"
     ]
    }
   ],
   "source": [
    "pip install svgling\n"
   ]
  },
  {
   "cell_type": "code",
   "execution_count": 5,
   "id": "793237ea-2e69-465b-80ad-f28966419914",
   "metadata": {},
   "outputs": [
    {
     "name": "stderr",
     "output_type": "stream",
     "text": [
      "[nltk_data] Downloading package averaged_perceptron_tagger_eng to\n",
      "[nltk_data]     C:\\Users\\HH Traders\\AppData\\Roaming\\nltk_data...\n",
      "[nltk_data]   Package averaged_perceptron_tagger_eng is already up-to-\n",
      "[nltk_data]       date!\n"
     ]
    },
    {
     "data": {
      "text/plain": [
       "['Generative',\n",
       " 'Ais',\n",
       " 'models',\n",
       " 'can',\n",
       " 'take',\n",
       " 'inputs',\n",
       " 'such',\n",
       " 'as',\n",
       " 'text',\n",
       " ',',\n",
       " 'image',\n",
       " ',',\n",
       " 'audio',\n",
       " ',',\n",
       " 'video',\n",
       " ',',\n",
       " 'and',\n",
       " 'code',\n",
       " 'and',\n",
       " 'generate',\n",
       " 'new',\n",
       " 'content',\n",
       " 'into',\n",
       " 'any',\n",
       " 'of',\n",
       " 'the',\n",
       " 'modalities',\n",
       " 'mentioned',\n",
       " '.',\n",
       " 'For',\n",
       " 'example',\n",
       " ',',\n",
       " 'it',\n",
       " 'can',\n",
       " 'turn',\n",
       " 'text',\n",
       " 'inputs',\n",
       " 'into',\n",
       " 'an',\n",
       " 'image',\n",
       " ',',\n",
       " 'turn',\n",
       " 'an',\n",
       " 'image',\n",
       " 'into',\n",
       " 'a',\n",
       " 'song',\n",
       " ',',\n",
       " 'or',\n",
       " 'turn',\n",
       " 'video',\n",
       " 'into',\n",
       " 'text',\n",
       " '.']"
      ]
     },
     "execution_count": 5,
     "metadata": {},
     "output_type": "execute_result"
    }
   ],
   "source": [
    "import nltk\n",
    "nltk.download('averaged_perceptron_tagger_eng')\n",
    "words = nltk.word_tokenize(scentence)\n",
    "words"
   ]
  },
  {
   "cell_type": "code",
   "execution_count": 6,
   "id": "32cddf21-f196-461f-893d-ad64e41a401f",
   "metadata": {},
   "outputs": [
    {
     "data": {
      "text/plain": [
       "[('Generative', 'NNP'),\n",
       " ('Ais', 'NNP'),\n",
       " ('models', 'NNS'),\n",
       " ('can', 'MD'),\n",
       " ('take', 'VB'),\n",
       " ('inputs', 'NNS'),\n",
       " ('such', 'JJ'),\n",
       " ('as', 'IN'),\n",
       " ('text', 'NN'),\n",
       " (',', ','),\n",
       " ('image', 'NN'),\n",
       " (',', ','),\n",
       " ('audio', 'NN'),\n",
       " (',', ','),\n",
       " ('video', 'NN'),\n",
       " (',', ','),\n",
       " ('and', 'CC'),\n",
       " ('code', 'NN'),\n",
       " ('and', 'CC'),\n",
       " ('generate', 'VB'),\n",
       " ('new', 'JJ'),\n",
       " ('content', 'NN'),\n",
       " ('into', 'IN'),\n",
       " ('any', 'DT'),\n",
       " ('of', 'IN'),\n",
       " ('the', 'DT'),\n",
       " ('modalities', 'NNS'),\n",
       " ('mentioned', 'VBN'),\n",
       " ('.', '.'),\n",
       " ('For', 'IN'),\n",
       " ('example', 'NN'),\n",
       " (',', ','),\n",
       " ('it', 'PRP'),\n",
       " ('can', 'MD'),\n",
       " ('turn', 'VB'),\n",
       " ('text', 'JJ'),\n",
       " ('inputs', 'NNS'),\n",
       " ('into', 'IN'),\n",
       " ('an', 'DT'),\n",
       " ('image', 'NN'),\n",
       " (',', ','),\n",
       " ('turn', 'VBP'),\n",
       " ('an', 'DT'),\n",
       " ('image', 'NN'),\n",
       " ('into', 'IN'),\n",
       " ('a', 'DT'),\n",
       " ('song', 'NN'),\n",
       " (',', ','),\n",
       " ('or', 'CC'),\n",
       " ('turn', 'VB'),\n",
       " ('video', 'NN'),\n",
       " ('into', 'IN'),\n",
       " ('text', 'NN'),\n",
       " ('.', '.')]"
      ]
     },
     "execution_count": 6,
     "metadata": {},
     "output_type": "execute_result"
    }
   ],
   "source": [
    "tagged_elements = nltk.pos_tag(words)\n",
    "tagged_elements"
   ]
  },
  {
   "cell_type": "code",
   "execution_count": 7,
   "id": "ec5a3d08-edbb-42a7-a0b6-fda7420beb7f",
   "metadata": {},
   "outputs": [
    {
     "name": "stderr",
     "output_type": "stream",
     "text": [
      "[nltk_data] Downloading package maxent_ne_chunker_tab to C:\\Users\\HH\n",
      "[nltk_data]     Traders\\AppData\\Roaming\\nltk_data...\n",
      "[nltk_data]   Package maxent_ne_chunker_tab is already up-to-date!\n"
     ]
    },
    {
     "data": {
      "text/plain": [
       "True"
      ]
     },
     "execution_count": 7,
     "metadata": {},
     "output_type": "execute_result"
    }
   ],
   "source": [
    "nltk.download('maxent_ne_chunker_tab')"
   ]
  },
  {
   "cell_type": "code",
   "execution_count": 8,
   "id": "2006c684-114e-4ed5-aa0e-480745ff881f",
   "metadata": {},
   "outputs": [
    {
     "name": "stderr",
     "output_type": "stream",
     "text": [
      "[nltk_data] Downloading package words to C:\\Users\\HH\n",
      "[nltk_data]     Traders\\AppData\\Roaming\\nltk_data...\n",
      "[nltk_data]   Package words is already up-to-date!\n"
     ]
    },
    {
     "data": {
      "text/plain": [
       "True"
      ]
     },
     "execution_count": 8,
     "metadata": {},
     "output_type": "execute_result"
    }
   ],
   "source": [
    "nltk.download(\"words\")"
   ]
  },
  {
   "cell_type": "code",
   "execution_count": 11,
   "id": "77ef592e-bcdc-4229-aa65-d7ae6246be7b",
   "metadata": {},
   "outputs": [],
   "source": [
    "nltk.ne_chunk(tagged_elements).draw()"
   ]
  },
  {
   "cell_type": "code",
   "execution_count": null,
   "id": "c69e463e-15fa-49ff-896b-a6eb80424007",
   "metadata": {},
   "outputs": [],
   "source": []
  }
 ],
 "metadata": {
  "kernelspec": {
   "display_name": "Python 3 (ipykernel)",
   "language": "python",
   "name": "python3"
  },
  "language_info": {
   "codemirror_mode": {
    "name": "ipython",
    "version": 3
   },
   "file_extension": ".py",
   "mimetype": "text/x-python",
   "name": "python",
   "nbconvert_exporter": "python",
   "pygments_lexer": "ipython3",
   "version": "3.12.5"
  }
 },
 "nbformat": 4,
 "nbformat_minor": 5
}
