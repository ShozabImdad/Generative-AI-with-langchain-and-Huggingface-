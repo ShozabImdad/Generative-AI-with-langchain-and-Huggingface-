{
 "cells": [
  {
   "cell_type": "code",
   "execution_count": 13,
   "id": "b2da7dc8-097c-4b1d-acec-87b29f16b21f",
   "metadata": {},
   "outputs": [
    {
     "name": "stdout",
     "output_type": "stream",
     "text": [
      "Requirement already satisfied: nltk in c:\\users\\hh traders\\appdata\\local\\programs\\python\\python312\\lib\\site-packages (3.9.1)\n",
      "Requirement already satisfied: click in c:\\users\\hh traders\\appdata\\local\\programs\\python\\python312\\lib\\site-packages (from nltk) (8.1.7)\n",
      "Requirement already satisfied: joblib in c:\\users\\hh traders\\appdata\\local\\programs\\python\\python312\\lib\\site-packages (from nltk) (1.4.2)\n",
      "Requirement already satisfied: regex>=2021.8.3 in c:\\users\\hh traders\\appdata\\local\\programs\\python\\python312\\lib\\site-packages (from nltk) (2024.7.24)\n",
      "Requirement already satisfied: tqdm in c:\\users\\hh traders\\appdata\\local\\programs\\python\\python312\\lib\\site-packages (from nltk) (4.66.5)\n",
      "Requirement already satisfied: colorama in c:\\users\\hh traders\\appdata\\local\\programs\\python\\python312\\lib\\site-packages (from click->nltk) (0.4.6)\n",
      "Note: you may need to restart the kernel to use updated packages.\n"
     ]
    }
   ],
   "source": [
    "pip install nltk"
   ]
  },
  {
   "cell_type": "code",
   "execution_count": 41,
   "id": "039200cd-2ff1-4f8b-9b83-2a8a8e5c48f8",
   "metadata": {},
   "outputs": [],
   "source": [
    "corpus = '''Generative Ai's models can take inputs such as text, image, audio, video, and code and generate new content into any of the modalities mentioned. \n",
    "For example,it can turn text inputs into an image, turn an image into a song, or turn video into text.\n",
    "'''"
   ]
  },
  {
   "cell_type": "code",
   "execution_count": 42,
   "id": "a34633bf-fde9-4ff6-aca5-ce01db9f6c09",
   "metadata": {},
   "outputs": [
    {
     "data": {
      "text/plain": [
       "\"Generative Ai's models can take inputs such as text, image, audio, video, and code and generate new content into any of the modalities mentioned. \\nFor example,it can turn text inputs into an image, turn an image into a song, or turn video into text.\\n\""
      ]
     },
     "execution_count": 42,
     "metadata": {},
     "output_type": "execute_result"
    }
   ],
   "source": [
    "corpus"
   ]
  },
  {
   "cell_type": "code",
   "execution_count": 43,
   "id": "b72d9c45-b425-4b03-9773-40788660500d",
   "metadata": {},
   "outputs": [
    {
     "name": "stdout",
     "output_type": "stream",
     "text": [
      "Generative Ai's models can take inputs such as text, image, audio, video, and code and generate new content into any of the modalities mentioned. \n",
      "For example,it can turn text inputs into an image, turn an image into a song, or turn video into text.\n",
      "\n"
     ]
    }
   ],
   "source": [
    "print(corpus)"
   ]
  },
  {
   "cell_type": "code",
   "execution_count": 44,
   "id": "2ce911cb-c37f-497a-9370-21d9e9c79b9b",
   "metadata": {},
   "outputs": [
    {
     "name": "stderr",
     "output_type": "stream",
     "text": [
      "[nltk_data] Downloading package punkt_tab to C:\\Users\\HH\n",
      "[nltk_data]     Traders\\AppData\\Roaming\\nltk_data...\n",
      "[nltk_data]   Package punkt_tab is already up-to-date!\n"
     ]
    },
    {
     "data": {
      "text/plain": [
       "True"
      ]
     },
     "execution_count": 44,
     "metadata": {},
     "output_type": "execute_result"
    }
   ],
   "source": [
    "import nltk\n",
    "nltk.download('punkt_tab')"
   ]
  },
  {
   "cell_type": "markdown",
   "id": "add9f58f-6111-488d-9be4-570ca43beb3c",
   "metadata": {},
   "source": [
    "## Tokenization\n",
    "## Paragraph --> Scentence "
   ]
  },
  {
   "cell_type": "code",
   "execution_count": 45,
   "id": "707be054-0d6c-4d58-a994-f45af408de1f",
   "metadata": {},
   "outputs": [],
   "source": [
    "from nltk.tokenize import sent_tokenize"
   ]
  },
  {
   "cell_type": "code",
   "execution_count": 46,
   "id": "57e290fc-67c3-498e-b94c-1ed39a82d25b",
   "metadata": {},
   "outputs": [],
   "source": [
    "documents = sent_tokenize(corpus)"
   ]
  },
  {
   "cell_type": "code",
   "execution_count": 47,
   "id": "9842b077-936e-424e-9148-5b05e2027c46",
   "metadata": {},
   "outputs": [
    {
     "data": {
      "text/plain": [
       "[\"Generative Ai's models can take inputs such as text, image, audio, video, and code and generate new content into any of the modalities mentioned.\",\n",
       " 'For example,it can turn text inputs into an image, turn an image into a song, or turn video into text.']"
      ]
     },
     "execution_count": 47,
     "metadata": {},
     "output_type": "execute_result"
    }
   ],
   "source": [
    "documents"
   ]
  },
  {
   "cell_type": "code",
   "execution_count": 48,
   "id": "28f51f24-e159-4b3d-85f4-4315af7b0921",
   "metadata": {},
   "outputs": [
    {
     "name": "stdout",
     "output_type": "stream",
     "text": [
      "Generative Ai's models can take inputs such as text, image, audio, video, and code and generate new content into any of the modalities mentioned.\n",
      "For example,it can turn text inputs into an image, turn an image into a song, or turn video into text.\n"
     ]
    }
   ],
   "source": [
    "for sent in documents:\n",
    "    print(sent)"
   ]
  },
  {
   "cell_type": "markdown",
   "id": "dda7d4ca-c988-4055-a74c-67e977678373",
   "metadata": {},
   "source": [
    "## Tokenization\n",
    "## Paragraph --> Words"
   ]
  },
  {
   "cell_type": "code",
   "execution_count": 49,
   "id": "ed91636e-f2a8-4dfb-92ff-a84eedb7b1a4",
   "metadata": {},
   "outputs": [],
   "source": [
    "from nltk.tokenize import word_tokenize"
   ]
  },
  {
   "cell_type": "code",
   "execution_count": 50,
   "id": "ca34b378-5038-48e9-8502-a2b3f1adfa77",
   "metadata": {},
   "outputs": [
    {
     "data": {
      "text/plain": [
       "['Generative',\n",
       " 'Ai',\n",
       " \"'s\",\n",
       " 'models',\n",
       " 'can',\n",
       " 'take',\n",
       " 'inputs',\n",
       " 'such',\n",
       " 'as',\n",
       " 'text',\n",
       " ',',\n",
       " 'image',\n",
       " ',',\n",
       " 'audio',\n",
       " ',',\n",
       " 'video',\n",
       " ',',\n",
       " 'and',\n",
       " 'code',\n",
       " 'and',\n",
       " 'generate',\n",
       " 'new',\n",
       " 'content',\n",
       " 'into',\n",
       " 'any',\n",
       " 'of',\n",
       " 'the',\n",
       " 'modalities',\n",
       " 'mentioned',\n",
       " '.',\n",
       " 'For',\n",
       " 'example',\n",
       " ',',\n",
       " 'it',\n",
       " 'can',\n",
       " 'turn',\n",
       " 'text',\n",
       " 'inputs',\n",
       " 'into',\n",
       " 'an',\n",
       " 'image',\n",
       " ',',\n",
       " 'turn',\n",
       " 'an',\n",
       " 'image',\n",
       " 'into',\n",
       " 'a',\n",
       " 'song',\n",
       " ',',\n",
       " 'or',\n",
       " 'turn',\n",
       " 'video',\n",
       " 'into',\n",
       " 'text',\n",
       " '.']"
      ]
     },
     "execution_count": 50,
     "metadata": {},
     "output_type": "execute_result"
    }
   ],
   "source": [
    "word = word_tokenize(corpus)\n",
    "word"
   ]
  },
  {
   "cell_type": "markdown",
   "id": "9bdc8d85-9de6-4b83-9206-fdaf60f470be",
   "metadata": {},
   "source": [
    "## Scentences(Document) --> Words"
   ]
  },
  {
   "cell_type": "code",
   "execution_count": 30,
   "id": "ac31b523-e5eb-4a02-b39e-ea7e9fa1b793",
   "metadata": {},
   "outputs": [
    {
     "name": "stdout",
     "output_type": "stream",
     "text": [
      "['Generative', 'AI', 'models', 'can', 'take', 'inputs', 'such', 'as', 'text', ',', 'image', ',', 'audio', ',', 'video', ',', 'and', 'code', 'and', 'generate', 'new', 'content', 'into', 'any', 'of', 'the', 'modalities', 'mentioned', '.']\n",
      "['For', 'example', ',', 'it', 'can', 'turn', 'text', 'inputs', 'into', 'an', 'image', ',', 'turn', 'an', 'image', 'into', 'a', 'song', ',', 'or', 'turn', 'video', 'into', 'text', '.']\n"
     ]
    }
   ],
   "source": [
    "for sent in documents:\n",
    "    print(word_tokenize(sent))"
   ]
  },
  {
   "cell_type": "code",
   "execution_count": 51,
   "id": "39eb3d7d-6eda-48b7-8212-1ffc4409be50",
   "metadata": {},
   "outputs": [],
   "source": [
    "from nltk.tokenize import wordpunct_tokenize"
   ]
  },
  {
   "cell_type": "code",
   "execution_count": 52,
   "id": "c553bb2b-9c7f-43d8-b685-d65e56eb3759",
   "metadata": {},
   "outputs": [
    {
     "name": "stdout",
     "output_type": "stream",
     "text": [
      "['Generative', 'Ai', \"'\", 's', 'models', 'can', 'take', 'inputs', 'such', 'as', 'text', ',', 'image', ',', 'audio', ',', 'video', ',', 'and', 'code', 'and', 'generate', 'new', 'content', 'into', 'any', 'of', 'the', 'modalities', 'mentioned', '.']\n",
      "['For', 'example', ',', 'it', 'can', 'turn', 'text', 'inputs', 'into', 'an', 'image', ',', 'turn', 'an', 'image', 'into', 'a', 'song', ',', 'or', 'turn', 'video', 'into', 'text', '.']\n"
     ]
    }
   ],
   "source": [
    "for sent in documents:\n",
    "    print(wordpunct_tokenize(sent))"
   ]
  },
  {
   "cell_type": "markdown",
   "id": "3714a8bf-0ce4-411d-81b8-5dc2bd60cacd",
   "metadata": {},
   "source": [
    "#### Using wwordpunct_tokenize() will make the punctuation marks tokens also."
   ]
  },
  {
   "cell_type": "code",
   "execution_count": 54,
   "id": "4a90fafe-f3bb-4c7c-a4b7-987a9cd176c3",
   "metadata": {},
   "outputs": [
    {
     "data": {
      "text/plain": [
       "['Generative',\n",
       " 'Ai',\n",
       " \"'\",\n",
       " 's',\n",
       " 'models',\n",
       " 'can',\n",
       " 'take',\n",
       " 'inputs',\n",
       " 'such',\n",
       " 'as',\n",
       " 'text',\n",
       " ',',\n",
       " 'image',\n",
       " ',',\n",
       " 'audio',\n",
       " ',',\n",
       " 'video',\n",
       " ',',\n",
       " 'and',\n",
       " 'code',\n",
       " 'and',\n",
       " 'generate',\n",
       " 'new',\n",
       " 'content',\n",
       " 'into',\n",
       " 'any',\n",
       " 'of',\n",
       " 'the',\n",
       " 'modalities',\n",
       " 'mentioned',\n",
       " '.',\n",
       " 'For',\n",
       " 'example',\n",
       " ',',\n",
       " 'it',\n",
       " 'can',\n",
       " 'turn',\n",
       " 'text',\n",
       " 'inputs',\n",
       " 'into',\n",
       " 'an',\n",
       " 'image',\n",
       " ',',\n",
       " 'turn',\n",
       " 'an',\n",
       " 'image',\n",
       " 'into',\n",
       " 'a',\n",
       " 'song',\n",
       " ',',\n",
       " 'or',\n",
       " 'turn',\n",
       " 'video',\n",
       " 'into',\n",
       " 'text',\n",
       " '.']"
      ]
     },
     "execution_count": 54,
     "metadata": {},
     "output_type": "execute_result"
    }
   ],
   "source": [
    "wordpunct_tokenize(corpus)"
   ]
  },
  {
   "cell_type": "code",
   "execution_count": 58,
   "id": "acf37bf2-9989-425c-bf6a-1c5b379953b4",
   "metadata": {},
   "outputs": [],
   "source": [
    "from nltk.tokenize import TreebankWordDetokenizer"
   ]
  },
  {
   "cell_type": "code",
   "execution_count": 59,
   "id": "82993830-1ef3-4029-b181-739f534472d6",
   "metadata": {},
   "outputs": [],
   "source": [
    "tokenizer = TreebankWordDetokenizer()"
   ]
  },
  {
   "cell_type": "code",
   "execution_count": 61,
   "id": "41536d60-1af2-4355-b8e0-58d8398d2f0c",
   "metadata": {},
   "outputs": [],
   "source": [
    "a = tokenizer.tokenize(corpus)"
   ]
  },
  {
   "cell_type": "code",
   "execution_count": 62,
   "id": "a8a4c29a-f552-4348-a431-6fd4dfd6bdc3",
   "metadata": {},
   "outputs": [
    {
     "data": {
      "text/plain": [
       "str"
      ]
     },
     "execution_count": 62,
     "metadata": {},
     "output_type": "execute_result"
    }
   ],
   "source": [
    "type(a)"
   ]
  },
  {
   "cell_type": "code",
   "execution_count": null,
   "id": "ac6fdfd8-ff36-4b20-ba72-ba051fc490ad",
   "metadata": {},
   "outputs": [],
   "source": []
  }
 ],
 "metadata": {
  "kernelspec": {
   "display_name": "Python 3 (ipykernel)",
   "language": "python",
   "name": "python3"
  },
  "language_info": {
   "codemirror_mode": {
    "name": "ipython",
    "version": 3
   },
   "file_extension": ".py",
   "mimetype": "text/x-python",
   "name": "python",
   "nbconvert_exporter": "python",
   "pygments_lexer": "ipython3",
   "version": "3.12.5"
  }
 },
 "nbformat": 4,
 "nbformat_minor": 5
}
