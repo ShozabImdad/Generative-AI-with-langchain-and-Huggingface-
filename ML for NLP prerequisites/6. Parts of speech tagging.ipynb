{
 "cells": [
  {
   "cell_type": "markdown",
   "id": "cfa272ab-c9ad-443c-8b43-9741827b528e",
   "metadata": {},
   "source": [
    "# Parts of speech tagging"
   ]
  },
  {
   "cell_type": "code",
   "execution_count": 1,
   "id": "dee4001f-dd14-44fc-9003-74b390151651",
   "metadata": {},
   "outputs": [],
   "source": [
    "## Speech of Quaid-e-Azam \n",
    "\n",
    "paragraph = \"\"\"Ladies and Gentlemen, I cordially thank you, with the utmost sincerity, for the honour you have conferred upon me the greatest honour that\n",
    "               it is possible for this Sovereign Assembly to confer by electing me as your first President. I also thank those leaders who have spoken in\n",
    "               appreciation of my services and their personal references to me. I sincerely hope that with your support and your co-operation we shall \n",
    "               make this Constituent Assembly an example to the world. The Constituent Assembly has got two main functions to perform. The first is the \n",
    "               very onerous and responsible task of framing our future constitution of Pakistan and the second of functioning as a full and complete \n",
    "               Sovereign body as the Federal Legislature of Pakistan. We have to do the best we can in adopting a provisional constitution for the \n",
    "               Federal Legislature of Pakistan. You know really that not only we ourselves are wondering but, I think, the whole world is wondering at \n",
    "               this unprecedented cyclonic revolution which has brought about the plan of creating and establishing two independent Sovereign Dominions \n",
    "               in this sub-continent. As it is, it has been unprecedented; there is no parallel in the history of the world. This mighty sub-continent \n",
    "               with all kinds of inhabitants has been brought under a plan which is titanic, unknown, unparalleled. And what is very important with \n",
    "               regards to it is that we have achieved it peacefully and by means of a revolution of the greatest possible character.\"\"\""
   ]
  },
  {
   "cell_type": "code",
   "execution_count": 4,
   "id": "5d887212-3117-4d86-a495-c9a3f6160ba5",
   "metadata": {},
   "outputs": [],
   "source": [
    "import nltk\n",
    "from nltk.corpus import stopwords\n",
    "sentences = nltk.sent_tokenize(paragraph)"
   ]
  },
  {
   "cell_type": "code",
   "execution_count": 5,
   "id": "77c44698-3c61-4cf5-bf8f-7284f4580f89",
   "metadata": {},
   "outputs": [
    {
     "data": {
      "text/plain": [
       "['Ladies and Gentlemen, I cordially thank you, with the utmost sincerity, for the honour you have conferred upon me the greatest honour that\\n               it is possible for this Sovereign Assembly to confer by electing me as your first President.',\n",
       " 'I also thank those leaders who have spoken in\\n               appreciation of my services and their personal references to me.',\n",
       " 'I sincerely hope that with your support and your co-operation we shall \\n               make this Constituent Assembly an example to the world.',\n",
       " 'The Constituent Assembly has got two main functions to perform.',\n",
       " 'The first is the \\n               very onerous and responsible task of framing our future constitution of Pakistan and the second of functioning as a full and complete \\n               Sovereign body as the Federal Legislature of Pakistan.',\n",
       " 'We have to do the best we can in adopting a provisional constitution for the \\n               Federal Legislature of Pakistan.',\n",
       " 'You know really that not only we ourselves are wondering but, I think, the whole world is wondering at \\n               this unprecedented cyclonic revolution which has brought about the plan of creating and establishing two independent Sovereign Dominions \\n               in this sub-continent.',\n",
       " 'As it is, it has been unprecedented; there is no parallel in the history of the world.',\n",
       " 'This mighty sub-continent \\n               with all kinds of inhabitants has been brought under a plan which is titanic, unknown, unparalleled.',\n",
       " 'And what is very important with \\n               regards to it is that we have achieved it peacefully and by means of a revolution of the greatest possible character.']"
      ]
     },
     "execution_count": 5,
     "metadata": {},
     "output_type": "execute_result"
    }
   ],
   "source": [
    "sentences"
   ]
  },
  {
   "cell_type": "code",
   "execution_count": 7,
   "id": "05064e79-d81a-4114-aa0f-652fdb82eaa7",
   "metadata": {},
   "outputs": [
    {
     "name": "stdout",
     "output_type": "stream",
     "text": [
      "[('Ladies', 'NNS'), ('Gentlemen', 'NNP'), (',', ','), ('I', 'PRP'), ('cordially', 'RB'), ('thank', 'VBD'), (',', ','), ('utmost', 'JJ'), ('sincerity', 'NN'), (',', ','), ('honour', 'NN'), ('conferred', 'VBD'), ('upon', 'IN'), ('greatest', 'JJS'), ('honour', 'NN'), ('possible', 'JJ'), ('Sovereign', 'NNP'), ('Assembly', 'NNP'), ('confer', 'NN'), ('electing', 'VBG'), ('first', 'JJ'), ('President', 'NNP'), ('.', '.')]\n",
      "[('I', 'PRP'), ('also', 'RB'), ('thank', 'VBD'), ('leaders', 'NNS'), ('spoken', 'VBP'), ('appreciation', 'NN'), ('services', 'NNS'), ('personal', 'JJ'), ('references', 'NNS'), ('.', '.')]\n",
      "[('I', 'PRP'), ('sincerely', 'RB'), ('hope', 'VBP'), ('support', 'NN'), ('co-operation', 'NN'), ('shall', 'MD'), ('make', 'VB'), ('Constituent', 'NNP'), ('Assembly', 'NNP'), ('example', 'NN'), ('world', 'NN'), ('.', '.')]\n",
      "[('The', 'DT'), ('Constituent', 'NNP'), ('Assembly', 'NNP'), ('got', 'VBD'), ('two', 'CD'), ('main', 'JJ'), ('functions', 'NNS'), ('perform', 'NN'), ('.', '.')]\n",
      "[('The', 'DT'), ('first', 'JJ'), ('onerous', 'JJ'), ('responsible', 'JJ'), ('task', 'NN'), ('framing', 'JJ'), ('future', 'JJ'), ('constitution', 'NN'), ('Pakistan', 'NNP'), ('second', 'JJ'), ('functioning', 'VBG'), ('full', 'JJ'), ('complete', 'JJ'), ('Sovereign', 'NNP'), ('body', 'NN'), ('Federal', 'NNP'), ('Legislature', 'NNP'), ('Pakistan', 'NNP'), ('.', '.')]\n",
      "[('We', 'PRP'), ('best', 'JJS'), ('adopting', 'VBG'), ('provisional', 'JJ'), ('constitution', 'NN'), ('Federal', 'NNP'), ('Legislature', 'NNP'), ('Pakistan', 'NNP'), ('.', '.')]\n",
      "[('You', 'PRP'), ('know', 'VBP'), ('really', 'RB'), ('wondering', 'JJ'), (',', ','), ('I', 'PRP'), ('think', 'VBP'), (',', ','), ('whole', 'JJ'), ('world', 'NN'), ('wondering', 'VBG'), ('unprecedented', 'JJ'), ('cyclonic', 'JJ'), ('revolution', 'NN'), ('brought', 'VBD'), ('plan', 'NN'), ('creating', 'VBG'), ('establishing', 'VBG'), ('two', 'CD'), ('independent', 'JJ'), ('Sovereign', 'NNP'), ('Dominions', 'NNP'), ('sub-continent', 'NN'), ('.', '.')]\n",
      "[('As', 'IN'), (',', ','), ('unprecedented', 'VBD'), (';', ':'), ('parallel', 'JJ'), ('history', 'NN'), ('world', 'NN'), ('.', '.')]\n",
      "[('This', 'DT'), ('mighty', 'VBZ'), ('sub-continent', 'JJ'), ('kinds', 'NNS'), ('inhabitants', 'NNS'), ('brought', 'VBD'), ('plan', 'NN'), ('titanic', 'NN'), (',', ','), ('unknown', 'JJ'), (',', ','), ('unparalleled', 'JJ'), ('.', '.')]\n",
      "[('And', 'CC'), ('important', 'JJ'), ('regards', 'NNS'), ('achieved', 'VBN'), ('peacefully', 'RB'), ('means', 'VBZ'), ('revolution', 'NN'), ('greatest', 'JJS'), ('possible', 'JJ'), ('character', 'NN'), ('.', '.')]\n"
     ]
    }
   ],
   "source": [
    "## we will find out the POS tags:\n",
    "for i in range(len(sentences)):\n",
    "    words = nltk.word_tokenize(sentences[i])\n",
    "    words = [word for word in words if word not in set(stopwords.words('english'))]\n",
    "    posTag = nltk.pos_tag(words)\n",
    "    print(posTag)"
   ]
  },
  {
   "cell_type": "code",
   "execution_count": null,
   "id": "fc994a9b-a703-44e5-a994-df539a761063",
   "metadata": {},
   "outputs": [],
   "source": []
  }
 ],
 "metadata": {
  "kernelspec": {
   "display_name": "Python 3 (ipykernel)",
   "language": "python",
   "name": "python3"
  },
  "language_info": {
   "codemirror_mode": {
    "name": "ipython",
    "version": 3
   },
   "file_extension": ".py",
   "mimetype": "text/x-python",
   "name": "python",
   "nbconvert_exporter": "python",
   "pygments_lexer": "ipython3",
   "version": "3.12.5"
  }
 },
 "nbformat": 4,
 "nbformat_minor": 5
}
