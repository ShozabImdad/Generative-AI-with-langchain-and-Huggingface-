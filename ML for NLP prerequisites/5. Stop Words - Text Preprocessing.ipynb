{
 "cells": [
  {
   "cell_type": "markdown",
   "id": "b7fedcf1-4b46-477f-be83-2a5db517b069",
   "metadata": {},
   "source": [
    "# Stop Words"
   ]
  },
  {
   "cell_type": "code",
   "execution_count": 44,
   "id": "febc53fc-93e5-4d68-876a-6e4f2d4c9647",
   "metadata": {},
   "outputs": [],
   "source": [
    "## Speech of Quaid-e-Azam \n",
    "\n",
    "paragraph = \"\"\"Ladies and Gentlemen, I cordially thank you, with the utmost sincerity, for the honour you have conferred upon me the greatest honour that\n",
    "               it is possible for this Sovereign Assembly to confer by electing me as your first President. I also thank those leaders who have spoken in\n",
    "               appreciation of my services and their personal references to me. I sincerely hope that with your support and your co-operation we shall \n",
    "               make this Constituent Assembly an example to the world. The Constituent Assembly has got two main functions to perform. The first is the \n",
    "               very onerous and responsible task of framing our future constitution of Pakistan and the second of functioning as a full and complete \n",
    "               Sovereign body as the Federal Legislature of Pakistan. We have to do the best we can in adopting a provisional constitution for the \n",
    "               Federal Legislature of Pakistan. You know really that not only we ourselves are wondering but, I think, the whole world is wondering at \n",
    "               this unprecedented cyclonic revolution which has brought about the plan of creating and establishing two independent Sovereign Dominions \n",
    "               in this sub-continent. As it is, it has been unprecedented; there is no parallel in the history of the world. This mighty sub-continent \n",
    "               with all kinds of inhabitants has been brought under a plan which is titanic, unknown, unparalleled. And what is very important with \n",
    "               regards to it is that we have achieved it peacefully and by means of a revolution of the greatest possible character.\"\"\""
   ]
  },
  {
   "cell_type": "code",
   "execution_count": 37,
   "id": "cb4e559b-93cf-444d-aa81-ddb4a06e8989",
   "metadata": {},
   "outputs": [],
   "source": [
    "from nltk.corpus import stopwords"
   ]
  },
  {
   "cell_type": "code",
   "execution_count": 5,
   "id": "88d4f22c-6d6b-4913-810c-b4a452ebcc29",
   "metadata": {},
   "outputs": [
    {
     "name": "stderr",
     "output_type": "stream",
     "text": [
      "[nltk_data] Downloading package stopwords to C:\\Users\\HH\n",
      "[nltk_data]     Traders\\AppData\\Roaming\\nltk_data...\n",
      "[nltk_data]   Package stopwords is already up-to-date!\n"
     ]
    },
    {
     "data": {
      "text/plain": [
       "True"
      ]
     },
     "execution_count": 5,
     "metadata": {},
     "output_type": "execute_result"
    }
   ],
   "source": [
    "import nltk\n",
    "nltk.download('stopwords')"
   ]
  },
  {
   "cell_type": "code",
   "execution_count": 7,
   "id": "2995bbdb-5310-46d2-b9b2-8e389c6b4637",
   "metadata": {},
   "outputs": [
    {
     "data": {
      "text/plain": [
       "['i',\n",
       " 'me',\n",
       " 'my',\n",
       " 'myself',\n",
       " 'we',\n",
       " 'our',\n",
       " 'ours',\n",
       " 'ourselves',\n",
       " 'you',\n",
       " \"you're\",\n",
       " \"you've\",\n",
       " \"you'll\",\n",
       " \"you'd\",\n",
       " 'your',\n",
       " 'yours',\n",
       " 'yourself',\n",
       " 'yourselves',\n",
       " 'he',\n",
       " 'him',\n",
       " 'his',\n",
       " 'himself',\n",
       " 'she',\n",
       " \"she's\",\n",
       " 'her',\n",
       " 'hers',\n",
       " 'herself',\n",
       " 'it',\n",
       " \"it's\",\n",
       " 'its',\n",
       " 'itself',\n",
       " 'they',\n",
       " 'them',\n",
       " 'their',\n",
       " 'theirs',\n",
       " 'themselves',\n",
       " 'what',\n",
       " 'which',\n",
       " 'who',\n",
       " 'whom',\n",
       " 'this',\n",
       " 'that',\n",
       " \"that'll\",\n",
       " 'these',\n",
       " 'those',\n",
       " 'am',\n",
       " 'is',\n",
       " 'are',\n",
       " 'was',\n",
       " 'were',\n",
       " 'be',\n",
       " 'been',\n",
       " 'being',\n",
       " 'have',\n",
       " 'has',\n",
       " 'had',\n",
       " 'having',\n",
       " 'do',\n",
       " 'does',\n",
       " 'did',\n",
       " 'doing',\n",
       " 'a',\n",
       " 'an',\n",
       " 'the',\n",
       " 'and',\n",
       " 'but',\n",
       " 'if',\n",
       " 'or',\n",
       " 'because',\n",
       " 'as',\n",
       " 'until',\n",
       " 'while',\n",
       " 'of',\n",
       " 'at',\n",
       " 'by',\n",
       " 'for',\n",
       " 'with',\n",
       " 'about',\n",
       " 'against',\n",
       " 'between',\n",
       " 'into',\n",
       " 'through',\n",
       " 'during',\n",
       " 'before',\n",
       " 'after',\n",
       " 'above',\n",
       " 'below',\n",
       " 'to',\n",
       " 'from',\n",
       " 'up',\n",
       " 'down',\n",
       " 'in',\n",
       " 'out',\n",
       " 'on',\n",
       " 'off',\n",
       " 'over',\n",
       " 'under',\n",
       " 'again',\n",
       " 'further',\n",
       " 'then',\n",
       " 'once',\n",
       " 'here',\n",
       " 'there',\n",
       " 'when',\n",
       " 'where',\n",
       " 'why',\n",
       " 'how',\n",
       " 'all',\n",
       " 'any',\n",
       " 'both',\n",
       " 'each',\n",
       " 'few',\n",
       " 'more',\n",
       " 'most',\n",
       " 'other',\n",
       " 'some',\n",
       " 'such',\n",
       " 'no',\n",
       " 'nor',\n",
       " 'not',\n",
       " 'only',\n",
       " 'own',\n",
       " 'same',\n",
       " 'so',\n",
       " 'than',\n",
       " 'too',\n",
       " 'very',\n",
       " 's',\n",
       " 't',\n",
       " 'can',\n",
       " 'will',\n",
       " 'just',\n",
       " 'don',\n",
       " \"don't\",\n",
       " 'should',\n",
       " \"should've\",\n",
       " 'now',\n",
       " 'd',\n",
       " 'll',\n",
       " 'm',\n",
       " 'o',\n",
       " 're',\n",
       " 've',\n",
       " 'y',\n",
       " 'ain',\n",
       " 'aren',\n",
       " \"aren't\",\n",
       " 'couldn',\n",
       " \"couldn't\",\n",
       " 'didn',\n",
       " \"didn't\",\n",
       " 'doesn',\n",
       " \"doesn't\",\n",
       " 'hadn',\n",
       " \"hadn't\",\n",
       " 'hasn',\n",
       " \"hasn't\",\n",
       " 'haven',\n",
       " \"haven't\",\n",
       " 'isn',\n",
       " \"isn't\",\n",
       " 'ma',\n",
       " 'mightn',\n",
       " \"mightn't\",\n",
       " 'mustn',\n",
       " \"mustn't\",\n",
       " 'needn',\n",
       " \"needn't\",\n",
       " 'shan',\n",
       " \"shan't\",\n",
       " 'shouldn',\n",
       " \"shouldn't\",\n",
       " 'wasn',\n",
       " \"wasn't\",\n",
       " 'weren',\n",
       " \"weren't\",\n",
       " 'won',\n",
       " \"won't\",\n",
       " 'wouldn',\n",
       " \"wouldn't\"]"
      ]
     },
     "execution_count": 7,
     "metadata": {},
     "output_type": "execute_result"
    }
   ],
   "source": [
    "stopwords.words('english')    ## all the stopwords in english will be listed. If we want to Download anyother language stopwords we simply replace english by thst language."
   ]
  },
  {
   "cell_type": "code",
   "execution_count": 9,
   "id": "1280c40e-f18f-4649-9bca-2967d75ad20d",
   "metadata": {},
   "outputs": [
    {
     "data": {
      "text/plain": [
       "['au',\n",
       " 'aux',\n",
       " 'avec',\n",
       " 'ce',\n",
       " 'ces',\n",
       " 'dans',\n",
       " 'de',\n",
       " 'des',\n",
       " 'du',\n",
       " 'elle',\n",
       " 'en',\n",
       " 'et',\n",
       " 'eux',\n",
       " 'il',\n",
       " 'ils',\n",
       " 'je',\n",
       " 'la',\n",
       " 'le',\n",
       " 'les',\n",
       " 'leur',\n",
       " 'lui',\n",
       " 'ma',\n",
       " 'mais',\n",
       " 'me',\n",
       " 'même',\n",
       " 'mes',\n",
       " 'moi',\n",
       " 'mon',\n",
       " 'ne',\n",
       " 'nos',\n",
       " 'notre',\n",
       " 'nous',\n",
       " 'on',\n",
       " 'ou',\n",
       " 'par',\n",
       " 'pas',\n",
       " 'pour',\n",
       " 'qu',\n",
       " 'que',\n",
       " 'qui',\n",
       " 'sa',\n",
       " 'se',\n",
       " 'ses',\n",
       " 'son',\n",
       " 'sur',\n",
       " 'ta',\n",
       " 'te',\n",
       " 'tes',\n",
       " 'toi',\n",
       " 'ton',\n",
       " 'tu',\n",
       " 'un',\n",
       " 'une',\n",
       " 'vos',\n",
       " 'votre',\n",
       " 'vous',\n",
       " 'c',\n",
       " 'd',\n",
       " 'j',\n",
       " 'l',\n",
       " 'à',\n",
       " 'm',\n",
       " 'n',\n",
       " 's',\n",
       " 't',\n",
       " 'y',\n",
       " 'été',\n",
       " 'étée',\n",
       " 'étées',\n",
       " 'étés',\n",
       " 'étant',\n",
       " 'étante',\n",
       " 'étants',\n",
       " 'étantes',\n",
       " 'suis',\n",
       " 'es',\n",
       " 'est',\n",
       " 'sommes',\n",
       " 'êtes',\n",
       " 'sont',\n",
       " 'serai',\n",
       " 'seras',\n",
       " 'sera',\n",
       " 'serons',\n",
       " 'serez',\n",
       " 'seront',\n",
       " 'serais',\n",
       " 'serait',\n",
       " 'serions',\n",
       " 'seriez',\n",
       " 'seraient',\n",
       " 'étais',\n",
       " 'était',\n",
       " 'étions',\n",
       " 'étiez',\n",
       " 'étaient',\n",
       " 'fus',\n",
       " 'fut',\n",
       " 'fûmes',\n",
       " 'fûtes',\n",
       " 'furent',\n",
       " 'sois',\n",
       " 'soit',\n",
       " 'soyons',\n",
       " 'soyez',\n",
       " 'soient',\n",
       " 'fusse',\n",
       " 'fusses',\n",
       " 'fût',\n",
       " 'fussions',\n",
       " 'fussiez',\n",
       " 'fussent',\n",
       " 'ayant',\n",
       " 'ayante',\n",
       " 'ayantes',\n",
       " 'ayants',\n",
       " 'eu',\n",
       " 'eue',\n",
       " 'eues',\n",
       " 'eus',\n",
       " 'ai',\n",
       " 'as',\n",
       " 'avons',\n",
       " 'avez',\n",
       " 'ont',\n",
       " 'aurai',\n",
       " 'auras',\n",
       " 'aura',\n",
       " 'aurons',\n",
       " 'aurez',\n",
       " 'auront',\n",
       " 'aurais',\n",
       " 'aurait',\n",
       " 'aurions',\n",
       " 'auriez',\n",
       " 'auraient',\n",
       " 'avais',\n",
       " 'avait',\n",
       " 'avions',\n",
       " 'aviez',\n",
       " 'avaient',\n",
       " 'eut',\n",
       " 'eûmes',\n",
       " 'eûtes',\n",
       " 'eurent',\n",
       " 'aie',\n",
       " 'aies',\n",
       " 'ait',\n",
       " 'ayons',\n",
       " 'ayez',\n",
       " 'aient',\n",
       " 'eusse',\n",
       " 'eusses',\n",
       " 'eût',\n",
       " 'eussions',\n",
       " 'eussiez',\n",
       " 'eussent']"
      ]
     },
     "execution_count": 9,
     "metadata": {},
     "output_type": "execute_result"
    }
   ],
   "source": [
    "stopwords.words('french') "
   ]
  },
  {
   "cell_type": "markdown",
   "id": "6933ea59-e6e2-4670-99cf-bcebb758772d",
   "metadata": {},
   "source": [
    "#### using porter stemmer"
   ]
  },
  {
   "cell_type": "code",
   "execution_count": 10,
   "id": "a00191fe-dc73-4544-94cc-75e76aed57e5",
   "metadata": {},
   "outputs": [],
   "source": [
    "from nltk.stem import PorterStemmer"
   ]
  },
  {
   "cell_type": "code",
   "execution_count": 11,
   "id": "af217e9d-4bd0-496c-9154-3d17f8a1bce9",
   "metadata": {},
   "outputs": [],
   "source": [
    "stemmer = PorterStemmer()"
   ]
  },
  {
   "cell_type": "code",
   "execution_count": 52,
   "id": "da5b7f4c-3109-4ef4-9dce-10f79a763fd7",
   "metadata": {},
   "outputs": [],
   "source": [
    "sentences = nltk.sent_tokenize(paragraph)"
   ]
  },
  {
   "cell_type": "code",
   "execution_count": 22,
   "id": "436ed04f-b7bb-4033-b3c1-248e660b53c7",
   "metadata": {},
   "outputs": [],
   "source": [
    "for i in range(len(sentences)):\n",
    "    words = nltk.word_tokenize(sentences[i])\n",
    "    words1 = [stemmer.stem(word) for word in words if word not in set(stopwords.words('english'))]\n",
    "    sentences[i] = ' '.join(words1)"
   ]
  },
  {
   "cell_type": "code",
   "execution_count": 23,
   "id": "c783a758-4cd8-40ca-a467-315ba9c7ef73",
   "metadata": {},
   "outputs": [
    {
     "data": {
      "text/plain": [
       "['ladi gentlemen , cordial thank , utmost sincer , honour confer upon greatest honour possibl sovereign assembl confer elect first presid .',\n",
       " 'also thank leader spoken appreci servic person refer .',\n",
       " 'sincer hope support co-op shall make constitu assembl exampl world .',\n",
       " 'constitu assembl got two main function perform .',\n",
       " 'first oner respon task frame futur constitut pakistan second function full complet sovereign bodi feder legislatur pakistan .',\n",
       " 'best adopt provis constitut feder legislatur pakistan .',\n",
       " 'know realli wonder , think , whole world wonder unprec cyclon revolut brought plan creat establish two independ sovereign dominion sub-contin .',\n",
       " ', unprec ; parallel histori world .',\n",
       " 'thi mighti sub-contin kind inhabit brought plan titan , unknown , unparallel .',\n",
       " 'import regard achiev peac mean revolut greatest possibl charact .']"
      ]
     },
     "execution_count": 23,
     "metadata": {},
     "output_type": "execute_result"
    }
   ],
   "source": [
    "sentences"
   ]
  },
  {
   "cell_type": "markdown",
   "id": "2070a843-64a4-49cb-9503-89a58b98185f",
   "metadata": {},
   "source": [
    "#### using snowball stemmer"
   ]
  },
  {
   "cell_type": "code",
   "execution_count": 24,
   "id": "7c12aea9-2e77-4f81-a3b6-44738b411224",
   "metadata": {},
   "outputs": [],
   "source": [
    "from nltk.stem import SnowballStemmer"
   ]
  },
  {
   "cell_type": "code",
   "execution_count": 26,
   "id": "4afab9cc-c924-43c3-9163-7f24e05b86f6",
   "metadata": {},
   "outputs": [],
   "source": [
    "snowball = SnowballStemmer(\"english\")"
   ]
  },
  {
   "cell_type": "code",
   "execution_count": 31,
   "id": "d9242890-d610-4795-b62a-0c86ab9bd3d8",
   "metadata": {},
   "outputs": [],
   "source": [
    "for i in range(len(sentences)):\n",
    "    words = nltk.word_tokenize(sentences[i])\n",
    "    words1 = [snowball.stem(word) for word in words if word not in set(stopwords.words('english'))]\n",
    "    sentences[i] = ' '.join(words1)"
   ]
  },
  {
   "cell_type": "code",
   "execution_count": 32,
   "id": "ccb12a27-a06e-4e71-916e-11b1c2bbcd45",
   "metadata": {},
   "outputs": [
    {
     "data": {
      "text/plain": [
       "['ladi gentlemen , i cordial thank , utmost sincer , honour confer upon greatest honour possibl sovereign assembl confer elect first presid .',\n",
       " 'i also thank leader spoken appreci servic person refer .',\n",
       " 'i sincer hope support co-oper shall make constitu assembl exampl world .',\n",
       " 'the constitu assembl got two main function perform .',\n",
       " 'the first oner respons task frame futur constitut pakistan second function full complet sovereign bodi feder legislatur pakistan .',\n",
       " 'we best adopt provision constitut feder legislatur pakistan .',\n",
       " 'you know realli wonder , i think , whole world wonder unpreced cyclon revolut brought plan creat establish two independ sovereign dominion sub-contin .',\n",
       " 'as , unpreced ; parallel histori world .',\n",
       " 'this mighti sub-contin kind inhabit brought plan titan , unknown , unparallel .',\n",
       " 'and import regard achiev peac mean revolut greatest possibl charact .']"
      ]
     },
     "execution_count": 32,
     "metadata": {},
     "output_type": "execute_result"
    }
   ],
   "source": [
    "sentences"
   ]
  },
  {
   "cell_type": "markdown",
   "id": "01e392a3-ae2a-43cf-a151-5bf51cd86211",
   "metadata": {},
   "source": [
    "#### Using Lemmatization"
   ]
  },
  {
   "cell_type": "code",
   "execution_count": 38,
   "id": "71e0e61e-9a37-4e78-af3c-35d6faf4b7b5",
   "metadata": {},
   "outputs": [],
   "source": [
    "from nltk.stem import WordNetLemmatizer\n",
    "lemmatizer = WordNetLemmatizer()"
   ]
  },
  {
   "cell_type": "code",
   "execution_count": 53,
   "id": "6b327419-94b9-409a-8d7f-a3b33537d0c5",
   "metadata": {},
   "outputs": [],
   "source": [
    "for i in range(len(sentences)):\n",
    "    words = nltk.word_tokenize(sentences[i])\n",
    "    words1 = [lemmatizer.lemmatize(word.lower(), 'v') for word in words if word not in set(stopwords.words('english'))]\n",
    "    sentences[i] = ' '.join(words1)"
   ]
  },
  {
   "cell_type": "code",
   "execution_count": 54,
   "id": "1cae0056-0c3c-4af3-9dd1-e642068eeccb",
   "metadata": {},
   "outputs": [
    {
     "data": {
      "text/plain": [
       "['ladies gentlemen , i cordially thank , utmost sincerity , honour confer upon greatest honour possible sovereign assembly confer elect first president .',\n",
       " 'i also thank leaders speak appreciation service personal reference .',\n",
       " 'i sincerely hope support co-operation shall make constituent assembly example world .',\n",
       " 'the constituent assembly get two main function perform .',\n",
       " 'the first onerous responsible task frame future constitution pakistan second function full complete sovereign body federal legislature pakistan .',\n",
       " 'we best adopt provisional constitution federal legislature pakistan .',\n",
       " 'you know really wonder , i think , whole world wonder unprecedented cyclonic revolution bring plan create establish two independent sovereign dominions sub-continent .',\n",
       " 'as , unprecedented ; parallel history world .',\n",
       " 'this mighty sub-continent kinds inhabitants bring plan titanic , unknown , unparalleled .',\n",
       " 'and important regard achieve peacefully mean revolution greatest possible character .']"
      ]
     },
     "execution_count": 54,
     "metadata": {},
     "output_type": "execute_result"
    }
   ],
   "source": [
    "sentences"
   ]
  },
  {
   "cell_type": "code",
   "execution_count": null,
   "id": "2205f8f7-c3dc-4032-9f01-91376706109e",
   "metadata": {},
   "outputs": [],
   "source": []
  }
 ],
 "metadata": {
  "kernelspec": {
   "display_name": "Python 3 (ipykernel)",
   "language": "python",
   "name": "python3"
  },
  "language_info": {
   "codemirror_mode": {
    "name": "ipython",
    "version": 3
   },
   "file_extension": ".py",
   "mimetype": "text/x-python",
   "name": "python",
   "nbconvert_exporter": "python",
   "pygments_lexer": "ipython3",
   "version": "3.12.5"
  }
 },
 "nbformat": 4,
 "nbformat_minor": 5
}
